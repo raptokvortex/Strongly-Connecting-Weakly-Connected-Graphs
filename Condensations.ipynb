{
 "cells": [
  {
   "cell_type": "code",
   "execution_count": 1,
   "id": "6a5e3e05-51af-4a18-9c28-9e99b6603a05",
   "metadata": {},
   "outputs": [],
   "source": [
    "import networkx as nx"
   ]
  },
  {
   "cell_type": "code",
   "execution_count": 2,
   "id": "be438ee4-f17e-45ec-a178-45c27f23c0a4",
   "metadata": {},
   "outputs": [],
   "source": [
    "def find_descendants(graph, start_node):\n",
    "    \n",
    "    descendants = set()\n",
    "\n",
    "    def dfs(node):\n",
    "        for neighbor in graph[node]:  # Iterate through all neighbors of the current node\n",
    "            if neighbor not in descendants:  # If the neighbor has not been visited\n",
    "                descendants.add(neighbor)  # Mark it as visited\n",
    "                dfs(neighbor)  # Recursively visit this neighbor\n",
    "\n",
    "    dfs(start_node)\n",
    "    return descendants"
   ]
  },
  {
   "cell_type": "code",
   "execution_count": 3,
   "id": "67b294de-92c2-46a8-a709-f563a69a9339",
   "metadata": {},
   "outputs": [],
   "source": [
    "def condensation(G):\n",
    "    \"\"\"\n",
    "    Takes a directed, weakly connected graph G, and returns the condensation of the graph P\n",
    "    \"\"\"\n",
    "    dic = dict()\n",
    "    for i in G.nodes:\n",
    "        dic[i] = find_descendants(G, i)\n",
    "\n",
    "    from collections import defaultdict\n",
    "\n",
    "    dic2 = defaultdict(set)\n",
    "    visited = set()  # Used to mark all processed nodes\n",
    "\n",
    "    for i in dic.keys():\n",
    "        if i in visited:\n",
    "            continue  # Skip if the current node has already been processed\n",
    "        # Current node is not processed; create a new strongly connected component\n",
    "        for j in dic[i]:\n",
    "            if i in dic[j]:  # Strongly connected component\n",
    "                dic2[i].add(j)\n",
    "                dic2[i].add(i)  # Add itself to the strongly connected component\n",
    "                visited.update(dic2[i])  # Mark all nodes in this component as processed\n",
    "\n",
    "        # If i has not been marked, add itself as an individual weakly connected component\n",
    "        if i not in visited:\n",
    "            dic2[i].add(i)\n",
    "            visited.add(i)\n",
    "\n",
    "    # Want to make a condensed graph\n",
    "    P = nx.DiGraph()\n",
    "\n",
    "    P.add_nodes_from(list(dic2.keys()))\n",
    "\n",
    "    representatives = dict()\n",
    "    for node in dic2.keys():\n",
    "        for component_item in dic2[node]:\n",
    "            representatives[component_item] = node\n",
    "\n",
    "    edges_to_add = set()\n",
    "    for edge in G.edges:\n",
    "        if representatives[edge[0]] != representatives[edge[1]]:\n",
    "            edges_to_add.add(((representatives[edge[0]]), representatives[edge[1]]))\n",
    "\n",
    "    edges_to_add = list(edges_to_add)\n",
    "\n",
    "    P.add_edges_from(edges_to_add)\n",
    "\n",
    "    return P"
   ]
  },
  {
   "cell_type": "code",
   "execution_count": null,
   "id": "55c8b588-9544-466a-9184-0df71238ac5d",
   "metadata": {},
   "outputs": [],
   "source": []
  }
 ],
 "metadata": {
  "kernelspec": {
   "display_name": "Python 3 (ipykernel)",
   "language": "python",
   "name": "python3"
  },
  "language_info": {
   "codemirror_mode": {
    "name": "ipython",
    "version": 3
   },
   "file_extension": ".py",
   "mimetype": "text/x-python",
   "name": "python",
   "nbconvert_exporter": "python",
   "pygments_lexer": "ipython3",
   "version": "3.12.5"
  }
 },
 "nbformat": 4,
 "nbformat_minor": 5
}
